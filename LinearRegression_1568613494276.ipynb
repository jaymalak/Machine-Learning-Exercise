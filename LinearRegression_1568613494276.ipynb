{
  "nbformat": 4,
  "nbformat_minor": 0,
  "metadata": {
    "kernelspec": {
      "display_name": "Python 3",
      "language": "python",
      "name": "python3"
    },
    "language_info": {
      "codemirror_mode": {
        "name": "ipython",
        "version": 3
      },
      "file_extension": ".py",
      "mimetype": "text/x-python",
      "name": "python",
      "nbconvert_exporter": "python",
      "pygments_lexer": "ipython3",
      "version": "3.7.3"
    },
    "colab": {
      "name": "LinearRegression-1568613494276.ipynb",
      "provenance": [],
      "collapsed_sections": [
        "fCQ5ayjO1hmC",
        "ThoXXC9k1hmL",
        "gL46fW8v1hmO",
        "ikJaWvFy1hmS",
        "4c6QyMsP1hmo",
        "HFQXD7rr1hmv",
        "Vsliny5l1hmz",
        "xEt0RTYj1hm3",
        "y1HLRagH1hnF",
        "a7RZ7LzT1hnV",
        "gBtr-2Rc1hnt"
      ],
      "include_colab_link": true
    }
  },
  "cells": [
    {
      "cell_type": "markdown",
      "metadata": {
        "id": "view-in-github",
        "colab_type": "text"
      },
      "source": [
        "<a href=\"https://colab.research.google.com/github/jaymalak/Machine-Learning-Exercise/blob/master/LinearRegression_1568613494276.ipynb\" target=\"_parent\"><img src=\"https://colab.research.google.com/assets/colab-badge.svg\" alt=\"Open In Colab\"/></a>"
      ]
    },
    {
      "cell_type": "markdown",
      "metadata": {
        "id": "59roWmQ91hlR",
        "colab_type": "text"
      },
      "source": [
        "<img src=\"https://github.com/insaid2018/Term-1/blob/master/Images/INSAID_Full%20Logo.png?raw=true\" width=\"240\" height=\"360\" />\n",
        "\n",
        "# LINEAR REGRESSION"
      ]
    },
    {
      "cell_type": "markdown",
      "metadata": {
        "id": "L1GmlzjI1hlT",
        "colab_type": "text"
      },
      "source": [
        "## Table of Content\n",
        "\n",
        "1. [Problem Statement](#section1)<br>\n",
        "2. [Data Loading and Description](#section2)<br>\n",
        "3. [Exploratory Data Analysis](#section3)<br>\n",
        "4. [Introduction to Linear Regression](#section4)<br>\n",
        "    - 4.1 [Linear Regression Equation with Errors in consideration](#section401)<br>\n",
        "        - 4.1.1 [Assumptions of Linear Regression](#sectionassumptions)<br>\n",
        "    - 4.2 [Preparing X and y using pandas](#section402)<br>\n",
        "    - 4.3 [Splitting X and y into training and test datasets](#section403)<br>\n",
        "    - 4.4 [Linear regression in scikit-learn](#section404)<br>\n",
        "    - 4.5 [Interpreting Model Coefficients](#section405)<br>\n",
        "    - 4.3 [Using the Model for Prediction](#section406)<br>\n",
        "5. [Model evaluation](#section5)<br>\n",
        "    - 5.1 [Model evaluation using metrics](#section501)<br>\n",
        "    - 5.2 [Model Evaluation using Rsquared value.](#section502)<br>\n",
        "6. [Feature Selection](#section6)<br>\n",
        "7. [Handling Categorical Features](#section7)<br>"
      ]
    },
    {
      "cell_type": "markdown",
      "metadata": {
        "id": "67kXjGTn1hlU",
        "colab_type": "text"
      },
      "source": [
        "<a id=section1></a>"
      ]
    },
    {
      "cell_type": "markdown",
      "metadata": {
        "id": "BNb7Cmjx1hlV",
        "colab_type": "text"
      },
      "source": [
        "## 1. Problem Statement\n",
        "\n",
        "__Sales__ (in thousands of units) for a particular product as a __function__ of __advertising budgets__ (in thousands of dollars) for _TV, radio, and newspaper media_. Suppose that in our role as __Data Scientist__ we are asked to suggest.\n",
        "\n",
        "- We want to find a function that given input budgets for TV, radio and newspaper __predicts the output sales__.\n",
        "\n",
        "- Which media __contribute__ to sales?\n",
        "\n",
        "- Visualize the __relationship__ between the _features_ and the _response_ using scatter plots."
      ]
    },
    {
      "cell_type": "markdown",
      "metadata": {
        "id": "XZnRYu3q1hlW",
        "colab_type": "text"
      },
      "source": [
        "<a id=section2></a>"
      ]
    },
    {
      "cell_type": "markdown",
      "metadata": {
        "id": "n6XBT0Nj1hlX",
        "colab_type": "text"
      },
      "source": [
        "## 2. Data Loading and Description\n",
        "\n",
        "The adverstising dataset captures sales revenue generated with respect to advertisement spends across multiple channles like radio, tv and newspaper.\n",
        "- TV        - Spend on TV Advertisements\n",
        "- Radio     - Spend on radio Advertisements\n",
        "- Newspaper - Spend on newspaper Advertisements\n",
        "- Sales     - Sales revenue generated"
      ]
    },
    {
      "cell_type": "markdown",
      "metadata": {
        "id": "opoQxjAU1hlY",
        "colab_type": "text"
      },
      "source": [
        "__Importing Packages__"
      ]
    },
    {
      "cell_type": "code",
      "metadata": {
        "id": "nmFUZtqv1hlZ",
        "colab_type": "code",
        "colab": {}
      },
      "source": [
        "import pandas as pd\n",
        "import seaborn as sns\n",
        "import matplotlib.pyplot as plt\n",
        "\n",
        "\n",
        "from sklearn import metrics\n",
        "\n",
        "import numpy as np\n",
        "\n",
        "# allow plots to appear directly in the notebook\n",
        "%matplotlib inline"
      ],
      "execution_count": 0,
      "outputs": []
    },
    {
      "cell_type": "markdown",
      "metadata": {
        "id": "9fyuwNXi1hlc",
        "colab_type": "text"
      },
      "source": [
        "#### Importing the Dataset"
      ]
    },
    {
      "cell_type": "code",
      "metadata": {
        "id": "2uPHzZjv1hlc",
        "colab_type": "code",
        "outputId": "8e918b5c-0560-401f-d4d2-b40ee9faebbc",
        "colab": {
          "base_uri": "https://localhost:8080/",
          "height": 198
        }
      },
      "source": [
        "data = pd.read_csv('https://raw.githubusercontent.com/insaid2018/Term-2/master/CaseStudy/Advertising.csv', index_col=0)\n",
        "data.head()"
      ],
      "execution_count": 2,
      "outputs": [
        {
          "output_type": "execute_result",
          "data": {
            "text/html": [
              "<div>\n",
              "<style scoped>\n",
              "    .dataframe tbody tr th:only-of-type {\n",
              "        vertical-align: middle;\n",
              "    }\n",
              "\n",
              "    .dataframe tbody tr th {\n",
              "        vertical-align: top;\n",
              "    }\n",
              "\n",
              "    .dataframe thead th {\n",
              "        text-align: right;\n",
              "    }\n",
              "</style>\n",
              "<table border=\"1\" class=\"dataframe\">\n",
              "  <thead>\n",
              "    <tr style=\"text-align: right;\">\n",
              "      <th></th>\n",
              "      <th>TV</th>\n",
              "      <th>radio</th>\n",
              "      <th>newspaper</th>\n",
              "      <th>sales</th>\n",
              "    </tr>\n",
              "  </thead>\n",
              "  <tbody>\n",
              "    <tr>\n",
              "      <th>1</th>\n",
              "      <td>230.1</td>\n",
              "      <td>37.8</td>\n",
              "      <td>69.2</td>\n",
              "      <td>22.1</td>\n",
              "    </tr>\n",
              "    <tr>\n",
              "      <th>2</th>\n",
              "      <td>44.5</td>\n",
              "      <td>39.3</td>\n",
              "      <td>45.1</td>\n",
              "      <td>10.4</td>\n",
              "    </tr>\n",
              "    <tr>\n",
              "      <th>3</th>\n",
              "      <td>17.2</td>\n",
              "      <td>45.9</td>\n",
              "      <td>69.3</td>\n",
              "      <td>9.3</td>\n",
              "    </tr>\n",
              "    <tr>\n",
              "      <th>4</th>\n",
              "      <td>151.5</td>\n",
              "      <td>41.3</td>\n",
              "      <td>58.5</td>\n",
              "      <td>18.5</td>\n",
              "    </tr>\n",
              "    <tr>\n",
              "      <th>5</th>\n",
              "      <td>180.8</td>\n",
              "      <td>10.8</td>\n",
              "      <td>58.4</td>\n",
              "      <td>12.9</td>\n",
              "    </tr>\n",
              "  </tbody>\n",
              "</table>\n",
              "</div>"
            ],
            "text/plain": [
              "      TV  radio  newspaper  sales\n",
              "1  230.1   37.8       69.2   22.1\n",
              "2   44.5   39.3       45.1   10.4\n",
              "3   17.2   45.9       69.3    9.3\n",
              "4  151.5   41.3       58.5   18.5\n",
              "5  180.8   10.8       58.4   12.9"
            ]
          },
          "metadata": {
            "tags": []
          },
          "execution_count": 2
        }
      ]
    },
    {
      "cell_type": "markdown",
      "metadata": {
        "id": "RMvf67O51hlg",
        "colab_type": "text"
      },
      "source": [
        "What are the **features**?\n",
        "- TV: advertising dollars spent on TV for a single product in a given market (in thousands of dollars)\n",
        "- Radio: advertising dollars spent on Radio\n",
        "- Newspaper: advertising dollars spent on Newspaper\n",
        "\n",
        "What is the **response**?\n",
        "- Sales: sales of a single product in a given market (in thousands of widgets)"
      ]
    },
    {
      "cell_type": "markdown",
      "metadata": {
        "id": "MAaJyGAK1hlh",
        "colab_type": "text"
      },
      "source": [
        "<a id=section3></a>"
      ]
    },
    {
      "cell_type": "markdown",
      "metadata": {
        "id": "1Sys03Bx1hli",
        "colab_type": "text"
      },
      "source": [
        "## 3. Exploratory Data Analysis"
      ]
    },
    {
      "cell_type": "code",
      "metadata": {
        "id": "mBAwQZTV1hlj",
        "colab_type": "code",
        "outputId": "f56af747-f587-4f69-d7b9-a6c27db99ae5",
        "colab": {
          "base_uri": "https://localhost:8080/",
          "height": 35
        }
      },
      "source": [
        "data.shape"
      ],
      "execution_count": 3,
      "outputs": [
        {
          "output_type": "execute_result",
          "data": {
            "text/plain": [
              "(200, 4)"
            ]
          },
          "metadata": {
            "tags": []
          },
          "execution_count": 3
        }
      ]
    },
    {
      "cell_type": "code",
      "metadata": {
        "id": "zR8ocaaX1hlm",
        "colab_type": "code",
        "outputId": "135f0deb-b59e-49ad-86ed-ab2e0c67abce",
        "colab": {
          "base_uri": "https://localhost:8080/",
          "height": 181
        }
      },
      "source": [
        "data.info()"
      ],
      "execution_count": 4,
      "outputs": [
        {
          "output_type": "stream",
          "text": [
            "<class 'pandas.core.frame.DataFrame'>\n",
            "Int64Index: 200 entries, 1 to 200\n",
            "Data columns (total 4 columns):\n",
            "TV           200 non-null float64\n",
            "radio        200 non-null float64\n",
            "newspaper    200 non-null float64\n",
            "sales        200 non-null float64\n",
            "dtypes: float64(4)\n",
            "memory usage: 7.8 KB\n"
          ],
          "name": "stdout"
        }
      ]
    },
    {
      "cell_type": "code",
      "metadata": {
        "id": "r_RxoLYw1hlq",
        "colab_type": "code",
        "outputId": "50c1e14b-9298-418f-d8bc-2e92ca5e3d28",
        "colab": {
          "base_uri": "https://localhost:8080/",
          "height": 288
        }
      },
      "source": [
        "data.describe()"
      ],
      "execution_count": 5,
      "outputs": [
        {
          "output_type": "execute_result",
          "data": {
            "text/html": [
              "<div>\n",
              "<style scoped>\n",
              "    .dataframe tbody tr th:only-of-type {\n",
              "        vertical-align: middle;\n",
              "    }\n",
              "\n",
              "    .dataframe tbody tr th {\n",
              "        vertical-align: top;\n",
              "    }\n",
              "\n",
              "    .dataframe thead th {\n",
              "        text-align: right;\n",
              "    }\n",
              "</style>\n",
              "<table border=\"1\" class=\"dataframe\">\n",
              "  <thead>\n",
              "    <tr style=\"text-align: right;\">\n",
              "      <th></th>\n",
              "      <th>TV</th>\n",
              "      <th>radio</th>\n",
              "      <th>newspaper</th>\n",
              "      <th>sales</th>\n",
              "    </tr>\n",
              "  </thead>\n",
              "  <tbody>\n",
              "    <tr>\n",
              "      <th>count</th>\n",
              "      <td>200.000000</td>\n",
              "      <td>200.000000</td>\n",
              "      <td>200.000000</td>\n",
              "      <td>200.000000</td>\n",
              "    </tr>\n",
              "    <tr>\n",
              "      <th>mean</th>\n",
              "      <td>147.042500</td>\n",
              "      <td>23.264000</td>\n",
              "      <td>30.554000</td>\n",
              "      <td>14.022500</td>\n",
              "    </tr>\n",
              "    <tr>\n",
              "      <th>std</th>\n",
              "      <td>85.854236</td>\n",
              "      <td>14.846809</td>\n",
              "      <td>21.778621</td>\n",
              "      <td>5.217457</td>\n",
              "    </tr>\n",
              "    <tr>\n",
              "      <th>min</th>\n",
              "      <td>0.700000</td>\n",
              "      <td>0.000000</td>\n",
              "      <td>0.300000</td>\n",
              "      <td>1.600000</td>\n",
              "    </tr>\n",
              "    <tr>\n",
              "      <th>25%</th>\n",
              "      <td>74.375000</td>\n",
              "      <td>9.975000</td>\n",
              "      <td>12.750000</td>\n",
              "      <td>10.375000</td>\n",
              "    </tr>\n",
              "    <tr>\n",
              "      <th>50%</th>\n",
              "      <td>149.750000</td>\n",
              "      <td>22.900000</td>\n",
              "      <td>25.750000</td>\n",
              "      <td>12.900000</td>\n",
              "    </tr>\n",
              "    <tr>\n",
              "      <th>75%</th>\n",
              "      <td>218.825000</td>\n",
              "      <td>36.525000</td>\n",
              "      <td>45.100000</td>\n",
              "      <td>17.400000</td>\n",
              "    </tr>\n",
              "    <tr>\n",
              "      <th>max</th>\n",
              "      <td>296.400000</td>\n",
              "      <td>49.600000</td>\n",
              "      <td>114.000000</td>\n",
              "      <td>27.000000</td>\n",
              "    </tr>\n",
              "  </tbody>\n",
              "</table>\n",
              "</div>"
            ],
            "text/plain": [
              "               TV       radio   newspaper       sales\n",
              "count  200.000000  200.000000  200.000000  200.000000\n",
              "mean   147.042500   23.264000   30.554000   14.022500\n",
              "std     85.854236   14.846809   21.778621    5.217457\n",
              "min      0.700000    0.000000    0.300000    1.600000\n",
              "25%     74.375000    9.975000   12.750000   10.375000\n",
              "50%    149.750000   22.900000   25.750000   12.900000\n",
              "75%    218.825000   36.525000   45.100000   17.400000\n",
              "max    296.400000   49.600000  114.000000   27.000000"
            ]
          },
          "metadata": {
            "tags": []
          },
          "execution_count": 5
        }
      ]
    },
    {
      "cell_type": "markdown",
      "metadata": {
        "id": "i_fdIFz11hls",
        "colab_type": "text"
      },
      "source": [
        "There are 200 **observations**, and thus 200 markets in the dataset.\n",
        "TV has more scattered Data\n",
        "Newspaper has more desnsed data\n",
        "Newspaper has Outliers"
      ]
    },
    {
      "cell_type": "markdown",
      "metadata": {
        "id": "UTB50aoL1hlt",
        "colab_type": "text"
      },
      "source": [
        "__Distribution of Features__"
      ]
    },
    {
      "cell_type": "code",
      "metadata": {
        "id": "zc7US_6D1hlu",
        "colab_type": "code",
        "outputId": "05cd9cdb-8bbc-4bd9-dc4a-fc6e14bec4ae",
        "colab": {
          "base_uri": "https://localhost:8080/",
          "height": 460
        }
      },
      "source": [
        "f, axes = plt.subplots(2, 2, figsize=(7, 7), sharex=True)                                      # Set up the matplotlib figure\n",
        "sns.despine(left=True)\n",
        "\n",
        "sns.distplot(data.sales, color=\"b\", ax=axes[0, 0])\n",
        "\n",
        "sns.distplot(data.TV, color=\"r\", ax=axes[0, 1])\n",
        "\n",
        "sns.distplot(data.radio, color=\"g\", ax=axes[1, 0])\n",
        "\n",
        "sns.distplot(data.newspaper, color=\"m\", ax=axes[1, 1])"
      ],
      "execution_count": 10,
      "outputs": [
        {
          "output_type": "execute_result",
          "data": {
            "text/plain": [
              "<matplotlib.axes._subplots.AxesSubplot at 0x7f657b870710>"
            ]
          },
          "metadata": {
            "tags": []
          },
          "execution_count": 10
        },
        {
          "output_type": "display_data",
          "data": {
            "image/png": "[encoded data removed]",
            "text/plain": [
              "<Figure size 504x504 with 4 Axes>"
            ]
          },
          "metadata": {
            "tags": []
          }
        }
      ]
    },
    {
      "cell_type": "markdown",
      "metadata": {
        "id": "wUZSW2y71hlw",
        "colab_type": "text"
      },
      "source": [
        "__Observations__<br/>\n",
        "_Sales_ seems to be __normal distribution__. Spending on _newspaper advertisement_ seems to be __right skewed__. Most of the spends on _newspaper_ is __fairly low__ where are spend on _radio and tv_ seems be __uniform distribution__. Spends on _tv_ are __comparatively higher__ then spend on _radio and newspaper_."
      ]
    },
    {
      "cell_type": "markdown",
      "metadata": {
        "id": "7HiCMpdP1hlx",
        "colab_type": "text"
      },
      "source": [
        "### Is there a relationship between sales and spend various advertising channels?"
      ]
    },
    {
      "cell_type": "code",
      "metadata": {
        "id": "kEl3xklh1hly",
        "colab_type": "code",
        "outputId": "ed2ef841-93f6-4c6f-cb02-1cf8ab3580e7",
        "colab": {
          "base_uri": "https://localhost:8080/",
          "height": 1000
        }
      },
      "source": [
        "JG1 = sns.jointplot(\"newspaper\", \"sales\", data=data, kind='reg')\n",
        "JG2 = sns.jointplot(\"radio\", \"sales\", data=data, kind='reg')\n",
        "JG3 = sns.jointplot(\"TV\", \"sales\", data=data, kind='reg')\n",
        "\n",
        "#subplots migration\n",
        "f = plt.figure()\n",
        "for J in [JG1, JG2,JG3]:\n",
        "    for A in J.fig.axes:\n",
        "        f._axstack.add(f._make_key(A), A)"
      ],
      "execution_count": 11,
      "outputs": [
        {
          "output_type": "display_data",
          "data": {
            "image/png": "[encoded data removed]",
            "text/plain": [
              "<Figure size 432x432 with 3 Axes>"
            ]
          },
          "metadata": {
            "tags": []
          }
        },
        {
          "output_type": "display_data",
          "data": {
            "image/png": "[encoded data removed]",
            "text/plain": [
              "<Figure size 432x432 with 3 Axes>"
            ]
          },
          "metadata": {
            "tags": []
          }
        },
        {
          "output_type": "display_data",
          "data": {
            "image/png": "[encoded data removed]",
            "text/plain": [
              "<Figure size 432x432 with 3 Axes>"
            ]
          },
          "metadata": {
            "tags": []
          }
        },
        {
          "output_type": "display_data",
          "data": {
            "image/png": "[encoded data removed]",
            "text/plain": [
              "<Figure size 432x288 with 9 Axes>"
            ]
          },
          "metadata": {
            "tags": []
          }
        }
      ]
    },
    {
      "cell_type": "markdown",
      "metadata": {
        "id": "6DCKG8yw1hl0",
        "colab_type": "text"
      },
      "source": [
        "__Observation__<br/>\n",
        "_Sales and spend on newpaper_ is __not__ highly correlaed where are _sales and spend on tv_ is __highly correlated__."
      ]
    },
    {
      "cell_type": "markdown",
      "metadata": {
        "id": "MTmz2yl_1hl1",
        "colab_type": "text"
      },
      "source": [
        "### Visualising Pairwise correlation"
      ]
    },
    {
      "cell_type": "code",
      "metadata": {
        "id": "Wmd_aJgr1hl2",
        "colab_type": "code",
        "outputId": "e96ee2eb-1426-4088-cc4f-df88183177c2",
        "colab": {
          "base_uri": "https://localhost:8080/",
          "height": 655
        }
      },
      "source": [
        "sns.pairplot(data, size = 2, aspect = 1.5)"
      ],
      "execution_count": 12,
      "outputs": [
        {
          "output_type": "stream",
          "text": [
            "/usr/local/lib/python3.6/dist-packages/seaborn/axisgrid.py:2065: UserWarning: The `size` parameter has been renamed to `height`; pleaes update your code.\n",
            "  warnings.warn(msg, UserWarning)\n"
          ],
          "name": "stderr"
        },
        {
          "output_type": "execute_result",
          "data": {
            "text/plain": [
              "<seaborn.axisgrid.PairGrid at 0x7f657be98748>"
            ]
          },
          "metadata": {
            "tags": []
          },
          "execution_count": 12
        },
        {
          "output_type": "display_data",
          "data": {
            "image/png": "[encoded data removed]",
            "text/plain": [
              "<Figure size 864x576 with 20 Axes>"
            ]
          },
          "metadata": {
            "tags": []
          }
        }
      ]
    },
    {
      "cell_type": "code",
      "metadata": {
        "id": "1lxzORTF1hl6",
        "colab_type": "code",
        "outputId": "93a48ff9-0936-4b6d-8e51-9b97d3d0f543",
        "colab": {}
      },
      "source": [
        "sns.pairplot(data, x_vars=['TV', 'radio', 'newspaper'], y_vars='sales', size=5, aspect=1, kind='reg')"
      ],
      "execution_count": 0,
      "outputs": [
        {
          "output_type": "stream",
          "text": [
            "C:\\ProgramData\\Anaconda3\\lib\\site-packages\\seaborn\\axisgrid.py:2065: UserWarning: The `size` parameter has been renamed to `height`; pleaes update your code.\n",
            "  warnings.warn(msg, UserWarning)\n"
          ],
          "name": "stderr"
        },
        {
          "output_type": "execute_result",
          "data": {
            "text/plain": [
              "<seaborn.axisgrid.PairGrid at 0x14750875b38>"
            ]
          },
          "metadata": {
            "tags": []
          },
          "execution_count": 50
        },
        {
          "output_type": "display_data",
          "data": {
            "image/png": "[encoded data removed]",
            "text/plain": [
              "<Figure size 1080x360 with 3 Axes>"
            ]
          },
          "metadata": {
            "tags": [],
            "needs_background": "light"
          }
        }
      ]
    },
    {
      "cell_type": "markdown",
      "metadata": {
        "id": "PoeyURhV1hmB",
        "colab_type": "text"
      },
      "source": [
        "__Observation__\n",
        "\n",
        "- Strong relationship between TV ads and sales\n",
        "- Weak relationship between Radio ads and sales\n",
        "- Very weak to no relationship between Newspaper ads and sales\n",
        "\n"
      ]
    },
    {
      "cell_type": "markdown",
      "metadata": {
        "id": "fCQ5ayjO1hmC",
        "colab_type": "text"
      },
      "source": [
        "### Calculating and plotting heatmap correlation"
      ]
    },
    {
      "cell_type": "code",
      "metadata": {
        "id": "nKqNOZN01hmD",
        "colab_type": "code",
        "outputId": "7f1cf08a-5399-419c-f29b-69d58b10cd0a",
        "colab": {}
      },
      "source": [
        "data.corr()"
      ],
      "execution_count": 0,
      "outputs": [
        {
          "output_type": "execute_result",
          "data": {
            "text/html": [
              "<div>\n",
              "<style scoped>\n",
              "    .dataframe tbody tr th:only-of-type {\n",
              "        vertical-align: middle;\n",
              "    }\n",
              "\n",
              "    .dataframe tbody tr th {\n",
              "        vertical-align: top;\n",
              "    }\n",
              "\n",
              "    .dataframe thead th {\n",
              "        text-align: right;\n",
              "    }\n",
              "</style>\n",
              "<table border=\"1\" class=\"dataframe\">\n",
              "  <thead>\n",
              "    <tr style=\"text-align: right;\">\n",
              "      <th></th>\n",
              "      <th>TV</th>\n",
              "      <th>radio</th>\n",
              "      <th>newspaper</th>\n",
              "      <th>sales</th>\n",
              "    </tr>\n",
              "  </thead>\n",
              "  <tbody>\n",
              "    <tr>\n",
              "      <th>TV</th>\n",
              "      <td>1.000000</td>\n",
              "      <td>0.054809</td>\n",
              "      <td>0.056648</td>\n",
              "      <td>0.782224</td>\n",
              "    </tr>\n",
              "    <tr>\n",
              "      <th>radio</th>\n",
              "      <td>0.054809</td>\n",
              "      <td>1.000000</td>\n",
              "      <td>0.354104</td>\n",
              "      <td>0.576223</td>\n",
              "    </tr>\n",
              "    <tr>\n",
              "      <th>newspaper</th>\n",
              "      <td>0.056648</td>\n",
              "      <td>0.354104</td>\n",
              "      <td>1.000000</td>\n",
              "      <td>0.228299</td>\n",
              "    </tr>\n",
              "    <tr>\n",
              "      <th>sales</th>\n",
              "      <td>0.782224</td>\n",
              "      <td>0.576223</td>\n",
              "      <td>0.228299</td>\n",
              "      <td>1.000000</td>\n",
              "    </tr>\n",
              "  </tbody>\n",
              "</table>\n",
              "</div>"
            ],
            "text/plain": [
              "                 TV     radio  newspaper     sales\n",
              "TV         1.000000  0.054809   0.056648  0.782224\n",
              "radio      0.054809  1.000000   0.354104  0.576223\n",
              "newspaper  0.056648  0.354104   1.000000  0.228299\n",
              "sales      0.782224  0.576223   0.228299  1.000000"
            ]
          },
          "metadata": {
            "tags": []
          },
          "execution_count": 51
        }
      ]
    },
    {
      "cell_type": "code",
      "metadata": {
        "id": "v9EYstzu1hmG",
        "colab_type": "code",
        "outputId": "d8d7f124-7d8d-42f7-cb82-bc78ea90f3d2",
        "colab": {}
      },
      "source": [
        "sns.heatmap( data.corr(), annot=True );"
      ],
      "execution_count": 0,
      "outputs": [
        {
          "output_type": "display_data",
          "data": {
            "image/png": "[encoded data removed]",
            "text/plain": [
              "<Figure size 432x288 with 2 Axes>"
            ]
          },
          "metadata": {
            "tags": [],
            "needs_background": "light"
          }
        }
      ]
    },
    {
      "cell_type": "markdown",
      "metadata": {
        "id": "aMaxTayp1hmJ",
        "colab_type": "text"
      },
      "source": [
        "__Observation__\n",
        "\n",
        "- The diagonal of the above matirx shows the auto-correlation of the variables. It is always 1. You can observe that the correlation between __TV and Sales is highest i.e. 0.78__ and then between __sales and radio i.e. 0.576__.\n",
        "\n",
        "- correlations can vary from -1 to +1. Closer to +1 means strong positive correlation and close -1 means strong negative correlation. Closer to 0 means not very strongly correlated. variables with __strong correlations__ are mostly probably candidates for __model builing__.\n"
      ]
    },
    {
      "cell_type": "markdown",
      "metadata": {
        "id": "oKdFdsHk1hmJ",
        "colab_type": "text"
      },
      "source": [
        "<a id=section4></a>"
      ]
    },
    {
      "cell_type": "markdown",
      "metadata": {
        "id": "s4k-yxts1hmK",
        "colab_type": "text"
      },
      "source": [
        "## 4. Introduction to Linear Regression\n",
        "\n",
        "__Linear regression__ is a _basic_ and _commonly_ used type of __predictive analysis__.  The overall idea of regression is to examine two things: \n",
        "- Does a set of __predictor variables__ do a good job in predicting an __outcome__ (dependent) variable?  \n",
        "- Which variables in particular are __significant predictors__ of the outcome variable, and in what way they do __impact__ the outcome variable?  \n",
        "\n",
        "These regression estimates are used to explain the __relationship between one dependent variable and one or more independent variables__.  The simplest form of the regression equation with one dependent and one independent variable is defined by the formula :<br/>\n",
        "$y = \\beta_0 + \\beta_1x$\n",
        "\n",
        "![image.png](attachment:image.png)\n",
        "\n",
        "What does each term represent?\n",
        "- $y$ is the response\n",
        "- $x$ is the feature\n",
        "- $\\beta_0$ is the intercept\n",
        "- $\\beta_1$ is the coefficient for x\n",
        "\n",
        "\n",
        "Three major uses for __regression analysis__ are: \n",
        "- determining the __strength__ of predictors,\n",
        "    - Typical questions are what is the strength of __relationship__ between _dose and effect_, _sales and marketing spending_, or _age and income_.\n",
        "- __forecasting__ an effect, and\n",
        "    - how much __additional sales income__ do I get for each additional $1000 spent on marketing?\n",
        "- __trend__ forecasting.\n",
        "    - what will the __price of house__ be in _6 months_?"
      ]
    },
    {
      "cell_type": "markdown",
      "metadata": {
        "id": "7KOuniAB1hmL",
        "colab_type": "text"
      },
      "source": [
        "<a id=section401></a>"
      ]
    },
    {
      "cell_type": "markdown",
      "metadata": {
        "id": "ThoXXC9k1hmL",
        "colab_type": "text"
      },
      "source": [
        "### 4.1 Linear Regression Equation with Errors in consideration\n",
        "\n",
        "While taking errors into consideration the equation of linear regression is: \n",
        "![image.png](attachment:image.png)\n",
        "Generally speaking, coefficients are estimated using the **least squares criterion**, which means we are find the line (mathematically) which minimizes the **sum of squared residuals** (or \"sum of squared errors\"):\n"
      ]
    },
    {
      "cell_type": "markdown",
      "metadata": {
        "id": "2kfDfwDW1hmM",
        "colab_type": "text"
      },
      "source": [
        "What elements are present in the diagram?\n",
        "- The black dots are the **observed values** of x and y.\n",
        "- The blue line is our **least squares line**.\n",
        "- The red lines are the **residuals**, which are the distances between the observed values and the least squares line.\n",
        "![image.png](attachment:image.png)\n"
      ]
    },
    {
      "cell_type": "markdown",
      "metadata": {
        "id": "DpGxe5l11hmN",
        "colab_type": "text"
      },
      "source": [
        "How do the model coefficients relate to the least squares line?\n",
        "- $\\beta_0$ is the **intercept** (the value of $y$ when $x$ = 0)\n",
        "- $\\beta_1$ is the **slope** (the change in $y$ divided by change in $x$)\n",
        "\n",
        "Here is a graphical depiction of those calculations:\n",
        "![image.png](attachment:image.png)"
      ]
    },
    {
      "cell_type": "markdown",
      "metadata": {
        "id": "E59QYXP41hmN",
        "colab_type": "text"
      },
      "source": [
        "<a id = sectionassumptions></a>"
      ]
    },
    {
      "cell_type": "markdown",
      "metadata": {
        "id": "gL46fW8v1hmO",
        "colab_type": "text"
      },
      "source": [
        "#### 4.1.1 Assumptions of Linear Regression"
      ]
    },
    {
      "cell_type": "markdown",
      "metadata": {
        "id": "EoPm0fpx1hmP",
        "colab_type": "text"
      },
      "source": [
        "1. There should be a linear and additive relationship between dependent (response) variable and independent (predictor) variable(s). A linear relationship suggests that a change in response Y due to one unit change in X¹ is constant, regardless of the value of X¹. An additive relationship suggests that the effect of X¹ on Y is independent of other variables.\n",
        "2. There should be no correlation between the residual (error) terms. Absence of this phenomenon is known as Autocorrelation.\n",
        "3. The independent variables should not be correlated. Absence of this phenomenon is known as multicollinearity.\n",
        "4. The error terms must have constant variance. This phenomenon is known as homoskedasticity. The presence of non-constant variance is referred to heteroskedasticity.\n",
        "5. The error terms must be normally distributed."
      ]
    },
    {
      "cell_type": "markdown",
      "metadata": {
        "id": "sEyOqUTU1hmQ",
        "colab_type": "text"
      },
      "source": [
        "<a id=section402></a>"
      ]
    },
    {
      "cell_type": "markdown",
      "metadata": {
        "id": "ikJaWvFy1hmS",
        "colab_type": "text"
      },
      "source": [
        "### 4.2 Preparing X and y using pandas"
      ]
    },
    {
      "cell_type": "markdown",
      "metadata": {
        "id": "a5-Sbhv11hmT",
        "colab_type": "text"
      },
      "source": [
        "- __Standardization__. <br/>\n",
        "Standardize features by removing the _mean_ and scaling to _unit standard deviation_."
      ]
    },
    {
      "cell_type": "code",
      "metadata": {
        "id": "Voj_DOlo1hmU",
        "colab_type": "code",
        "colab": {}
      },
      "source": [
        "from sklearn.preprocessing import StandardScaler\n",
        "scaler = StandardScaler().fit(data)\n",
        "data1 = scaler.transform(data)"
      ],
      "execution_count": 0,
      "outputs": []
    },
    {
      "cell_type": "code",
      "metadata": {
        "scrolled": true,
        "id": "RUzq2jKB1hmZ",
        "colab_type": "code",
        "outputId": "0e4f08bc-83cc-4df5-fd39-dcd7b7732bd4",
        "colab": {}
      },
      "source": [
        "data = pd.DataFrame(data1)\n",
        "data.head()"
      ],
      "execution_count": 0,
      "outputs": [
        {
          "output_type": "execute_result",
          "data": {
            "text/html": [
              "<div>\n",
              "<style scoped>\n",
              "    .dataframe tbody tr th:only-of-type {\n",
              "        vertical-align: middle;\n",
              "    }\n",
              "\n",
              "    .dataframe tbody tr th {\n",
              "        vertical-align: top;\n",
              "    }\n",
              "\n",
              "    .dataframe thead th {\n",
              "        text-align: right;\n",
              "    }\n",
              "</style>\n",
              "<table border=\"1\" class=\"dataframe\">\n",
              "  <thead>\n",
              "    <tr style=\"text-align: right;\">\n",
              "      <th></th>\n",
              "      <th>0</th>\n",
              "      <th>1</th>\n",
              "      <th>2</th>\n",
              "      <th>3</th>\n",
              "    </tr>\n",
              "  </thead>\n",
              "  <tbody>\n",
              "    <tr>\n",
              "      <th>0</th>\n",
              "      <td>0.969852</td>\n",
              "      <td>0.981522</td>\n",
              "      <td>1.778945</td>\n",
              "      <td>1.552053</td>\n",
              "    </tr>\n",
              "    <tr>\n",
              "      <th>1</th>\n",
              "      <td>-1.197376</td>\n",
              "      <td>1.082808</td>\n",
              "      <td>0.669579</td>\n",
              "      <td>-0.696046</td>\n",
              "    </tr>\n",
              "    <tr>\n",
              "      <th>2</th>\n",
              "      <td>-1.516155</td>\n",
              "      <td>1.528463</td>\n",
              "      <td>1.783549</td>\n",
              "      <td>-0.907406</td>\n",
              "    </tr>\n",
              "    <tr>\n",
              "      <th>3</th>\n",
              "      <td>0.052050</td>\n",
              "      <td>1.217855</td>\n",
              "      <td>1.286405</td>\n",
              "      <td>0.860330</td>\n",
              "    </tr>\n",
              "    <tr>\n",
              "      <th>4</th>\n",
              "      <td>0.394182</td>\n",
              "      <td>-0.841614</td>\n",
              "      <td>1.281802</td>\n",
              "      <td>-0.215683</td>\n",
              "    </tr>\n",
              "  </tbody>\n",
              "</table>\n",
              "</div>"
            ],
            "text/plain": [
              "          0         1         2         3\n",
              "0  0.969852  0.981522  1.778945  1.552053\n",
              "1 -1.197376  1.082808  0.669579 -0.696046\n",
              "2 -1.516155  1.528463  1.783549 -0.907406\n",
              "3  0.052050  1.217855  1.286405  0.860330\n",
              "4  0.394182 -0.841614  1.281802 -0.215683"
            ]
          },
          "metadata": {
            "tags": []
          },
          "execution_count": 54
        }
      ]
    },
    {
      "cell_type": "code",
      "metadata": {
        "id": "fUnTvxeA1hmc",
        "colab_type": "code",
        "outputId": "f965bc70-fbb5-46da-d8e3-e8fa5c9497db",
        "colab": {}
      },
      "source": [
        "data.columns = ['TV','radio','newspaper','sales']\n",
        "data.head()"
      ],
      "execution_count": 0,
      "outputs": [
        {
          "output_type": "execute_result",
          "data": {
            "text/html": [
              "<div>\n",
              "<style scoped>\n",
              "    .dataframe tbody tr th:only-of-type {\n",
              "        vertical-align: middle;\n",
              "    }\n",
              "\n",
              "    .dataframe tbody tr th {\n",
              "        vertical-align: top;\n",
              "    }\n",
              "\n",
              "    .dataframe thead th {\n",
              "        text-align: right;\n",
              "    }\n",
              "</style>\n",
              "<table border=\"1\" class=\"dataframe\">\n",
              "  <thead>\n",
              "    <tr style=\"text-align: right;\">\n",
              "      <th></th>\n",
              "      <th>TV</th>\n",
              "      <th>radio</th>\n",
              "      <th>newspaper</th>\n",
              "      <th>sales</th>\n",
              "    </tr>\n",
              "  </thead>\n",
              "  <tbody>\n",
              "    <tr>\n",
              "      <th>0</th>\n",
              "      <td>0.969852</td>\n",
              "      <td>0.981522</td>\n",
              "      <td>1.778945</td>\n",
              "      <td>1.552053</td>\n",
              "    </tr>\n",
              "    <tr>\n",
              "      <th>1</th>\n",
              "      <td>-1.197376</td>\n",
              "      <td>1.082808</td>\n",
              "      <td>0.669579</td>\n",
              "      <td>-0.696046</td>\n",
              "    </tr>\n",
              "    <tr>\n",
              "      <th>2</th>\n",
              "      <td>-1.516155</td>\n",
              "      <td>1.528463</td>\n",
              "      <td>1.783549</td>\n",
              "      <td>-0.907406</td>\n",
              "    </tr>\n",
              "    <tr>\n",
              "      <th>3</th>\n",
              "      <td>0.052050</td>\n",
              "      <td>1.217855</td>\n",
              "      <td>1.286405</td>\n",
              "      <td>0.860330</td>\n",
              "    </tr>\n",
              "    <tr>\n",
              "      <th>4</th>\n",
              "      <td>0.394182</td>\n",
              "      <td>-0.841614</td>\n",
              "      <td>1.281802</td>\n",
              "      <td>-0.215683</td>\n",
              "    </tr>\n",
              "  </tbody>\n",
              "</table>\n",
              "</div>"
            ],
            "text/plain": [
              "         TV     radio  newspaper     sales\n",
              "0  0.969852  0.981522   1.778945  1.552053\n",
              "1 -1.197376  1.082808   0.669579 -0.696046\n",
              "2 -1.516155  1.528463   1.783549 -0.907406\n",
              "3  0.052050  1.217855   1.286405  0.860330\n",
              "4  0.394182 -0.841614   1.281802 -0.215683"
            ]
          },
          "metadata": {
            "tags": []
          },
          "execution_count": 55
        }
      ]
    },
    {
      "cell_type": "code",
      "metadata": {
        "id": "w9-GIOHS1hme",
        "colab_type": "code",
        "colab": {}
      },
      "source": [
        "feature_cols = ['TV', 'radio', 'newspaper']                # create a Python list of feature names\n",
        "X = data[feature_cols]                                     # use the list to select a subset of the original DataFrame-+"
      ],
      "execution_count": 0,
      "outputs": []
    },
    {
      "cell_type": "markdown",
      "metadata": {
        "id": "Y3yxaVMQ1hmg",
        "colab_type": "text"
      },
      "source": [
        "- Checking the type and shape of X."
      ]
    },
    {
      "cell_type": "code",
      "metadata": {
        "id": "cLqB0WpH1hmh",
        "colab_type": "code",
        "outputId": "db0f6888-7403-4e33-9ccc-50cc3abcf3d1",
        "colab": {}
      },
      "source": [
        "print(type(X))\n",
        "print(X.shape)"
      ],
      "execution_count": 0,
      "outputs": [
        {
          "output_type": "stream",
          "text": [
            "<class 'pandas.core.frame.DataFrame'>\n",
            "(200, 3)\n"
          ],
          "name": "stdout"
        }
      ]
    },
    {
      "cell_type": "code",
      "metadata": {
        "id": "EvRY2AaW1hmj",
        "colab_type": "code",
        "outputId": "cabb80d4-7735-4f0f-f0ba-58081c02b37f",
        "colab": {}
      },
      "source": [
        "y = data.sales\n",
        "y.head()"
      ],
      "execution_count": 0,
      "outputs": [
        {
          "output_type": "execute_result",
          "data": {
            "text/plain": [
              "0    1.552053\n",
              "1   -0.696046\n",
              "2   -0.907406\n",
              "3    0.860330\n",
              "4   -0.215683\n",
              "Name: sales, dtype: float64"
            ]
          },
          "metadata": {
            "tags": []
          },
          "execution_count": 58
        }
      ]
    },
    {
      "cell_type": "markdown",
      "metadata": {
        "id": "GC-099Yj1hml",
        "colab_type": "text"
      },
      "source": [
        "- Check the type and shape of y"
      ]
    },
    {
      "cell_type": "code",
      "metadata": {
        "id": "KtGx8IXy1hml",
        "colab_type": "code",
        "outputId": "24e1721d-f136-4ded-f7a1-1b0af081a2aa",
        "colab": {}
      },
      "source": [
        "print(type(y))\n",
        "print(y.shape)"
      ],
      "execution_count": 0,
      "outputs": [
        {
          "output_type": "stream",
          "text": [
            "<class 'pandas.core.series.Series'>\n",
            "(200,)\n"
          ],
          "name": "stdout"
        }
      ]
    },
    {
      "cell_type": "markdown",
      "metadata": {
        "id": "wyZZRHD71hmn",
        "colab_type": "text"
      },
      "source": [
        "<a id=section403></a>"
      ]
    },
    {
      "cell_type": "markdown",
      "metadata": {
        "id": "4c6QyMsP1hmo",
        "colab_type": "text"
      },
      "source": [
        "### 4.3 Splitting X and y into training and test datasets."
      ]
    },
    {
      "cell_type": "code",
      "metadata": {
        "id": "4ZSGU9f_1hmp",
        "colab_type": "code",
        "colab": {}
      },
      "source": [
        "from sklearn.model_selection import train_test_split\n",
        "\n",
        "def split(X,y):\n",
        "    return train_test_split(X, y, test_size=0.20, random_state=1)"
      ],
      "execution_count": 0,
      "outputs": []
    },
    {
      "cell_type": "code",
      "metadata": {
        "id": "zROfNfGX1hmr",
        "colab_type": "code",
        "outputId": "5af5a08b-427c-4da0-ee80-8a2d7a0c8448",
        "colab": {}
      },
      "source": [
        "X_train, X_test, y_train, y_test=split(X,y)\n",
        "print('Train cases as below')\n",
        "print('X_train shape: ',X_train.shape)\n",
        "print('y_train shape: ',y_train.shape)\n",
        "print('\\nTest cases as below')\n",
        "print('X_test shape: ',X_test.shape)\n",
        "print('y_test shape: ',y_test.shape)"
      ],
      "execution_count": 0,
      "outputs": [
        {
          "output_type": "stream",
          "text": [
            "Train cases as below\n",
            "X_train shape:  (160, 3)\n",
            "y_train shape:  (160,)\n",
            "\n",
            "Test cases as below\n",
            "X_test shape:  (40, 3)\n",
            "y_test shape:  (40,)\n"
          ],
          "name": "stdout"
        }
      ]
    },
    {
      "cell_type": "markdown",
      "metadata": {
        "id": "y69TgjJE1hmu",
        "colab_type": "text"
      },
      "source": [
        "<a id=section404></a>"
      ]
    },
    {
      "cell_type": "markdown",
      "metadata": {
        "id": "HFQXD7rr1hmv",
        "colab_type": "text"
      },
      "source": [
        "### 4.4 Linear regression in scikit-learn"
      ]
    },
    {
      "cell_type": "markdown",
      "metadata": {
        "id": "qxNc_ToR1hmw",
        "colab_type": "text"
      },
      "source": [
        "To apply any machine learning algorithm on your dataset, basically there are 4 steps:\n",
        "1. Load the algorithm\n",
        "2. Instantiate and Fit the model to the training dataset\n",
        "3. Prediction on the test set\n",
        "4. Calculating Root mean square error \n",
        "The code block given below shows how these steps are carried out:<br/>\n",
        "\n",
        "``` from sklearn.linear_model import LinearRegression\n",
        "    linreg = LinearRegression()\n",
        "    linreg.fit(X_train, y_train) \n",
        "    RMSE_test = np.sqrt(metrics.mean_squared_error(y_test, y_pred_test))```"
      ]
    },
    {
      "cell_type": "code",
      "metadata": {
        "id": "Ep1r7Nm31hmx",
        "colab_type": "code",
        "colab": {}
      },
      "source": [
        "def linear_reg( X, y, gridsearch = False):\n",
        "    \n",
        "    X_train, X_test, y_train, y_test = split(X,y)\n",
        "    \n",
        "    from sklearn.linear_model import LinearRegression\n",
        "    linreg = LinearRegression()\n",
        "    \n",
        "    if not(gridsearch):\n",
        "        linreg.fit(X_train, y_train) \n",
        "\n",
        "    else:\n",
        "        from sklearn.model_selection import GridSearchCV\n",
        "        parameters = {'normalize':[True,False], 'copy_X':[True, False]}\n",
        "        linreg = GridSearchCV(linreg,parameters, cv = 10,refit = True)\n",
        "        linreg.fit(X_train, y_train)                                                           # fit the model to the training data (learn the coefficients)\n",
        "        print(\"Mean cross-validated score of the best_estimator : \", linreg.best_score_)  \n",
        "        \n",
        "        y_pred_test = linreg.predict(X_test)                                                   # make predictions on the testing set\n",
        "\n",
        "        RMSE_test = np.sqrt(metrics.mean_squared_error(y_test, y_pred_test))                          # compute the RMSE of our predictions\n",
        "        print('RMSE for the test set is {}'.format(RMSE_test))\n",
        "\n",
        "    return linreg"
      ],
      "execution_count": 0,
      "outputs": []
    },
    {
      "cell_type": "markdown",
      "metadata": {
        "id": "Vsliny5l1hmz",
        "colab_type": "text"
      },
      "source": [
        "### Linear Regression Model without GridSearcCV\n",
        "Note:  Linear Regression Model with GridSearcCV is implemented at Table of Contents: 8"
      ]
    },
    {
      "cell_type": "code",
      "metadata": {
        "id": "UepU7QNx1hm0",
        "colab_type": "code",
        "colab": {}
      },
      "source": [
        "X = data[feature_cols]  \n",
        "y = data.sales\n",
        "linreg = linear_reg(X,y)"
      ],
      "execution_count": 0,
      "outputs": []
    },
    {
      "cell_type": "markdown",
      "metadata": {
        "id": "S67TKsLN1hm2",
        "colab_type": "text"
      },
      "source": [
        "<a id=section405></a>"
      ]
    },
    {
      "cell_type": "markdown",
      "metadata": {
        "id": "xEt0RTYj1hm3",
        "colab_type": "text"
      },
      "source": [
        "### 4.5 Interpreting Model Coefficients"
      ]
    },
    {
      "cell_type": "code",
      "metadata": {
        "scrolled": false,
        "id": "MpsmgAbX1hm4",
        "colab_type": "code",
        "outputId": "4b240594-ce4c-4fef-864c-5934f5bb8604",
        "colab": {}
      },
      "source": [
        "print('Intercept:',linreg.intercept_)          # print the intercept \n",
        "print('Coefficients:',linreg.coef_)  "
      ],
      "execution_count": 0,
      "outputs": [
        {
          "output_type": "stream",
          "text": [
            "Intercept: 0.001162087460638478\n",
            "Coefficients: [0.77081214 0.50806629 0.01079522]\n"
          ],
          "name": "stdout"
        }
      ]
    },
    {
      "cell_type": "markdown",
      "metadata": {
        "id": "tVKiBcND1hm8",
        "colab_type": "text"
      },
      "source": [
        "Its hard to remember the order of the feature names, we so we are __zipping__ the features to pair the feature names with the coefficients"
      ]
    },
    {
      "cell_type": "code",
      "metadata": {
        "id": "LLb4VtrJ1hm9",
        "colab_type": "code",
        "colab": {}
      },
      "source": [
        "feature_cols.insert(0,'Intercept')\n",
        "coef = linreg.coef_.tolist()            \n",
        "coef.insert(0, linreg.intercept_)       "
      ],
      "execution_count": 0,
      "outputs": []
    },
    {
      "cell_type": "code",
      "metadata": {
        "scrolled": true,
        "id": "KJqkEUyq1hnA",
        "colab_type": "code",
        "outputId": "b79c79ce-e1e3-40a6-fdef-a658f4a9ce6e",
        "colab": {}
      },
      "source": [
        "eq1 = zip(feature_cols, coef)\n",
        "\n",
        "for c1,c2 in eq1:\n",
        "    print(c1,c2)"
      ],
      "execution_count": 0,
      "outputs": [
        {
          "output_type": "stream",
          "text": [
            "Intercept 0.001162087460638478\n",
            "TV 0.77081213791251\n",
            "radio 0.50806629027561\n",
            "newspaper 0.010795215187608894\n"
          ],
          "name": "stdout"
        }
      ]
    },
    {
      "cell_type": "markdown",
      "metadata": {
        "id": "bLgIR8Dx1hnD",
        "colab_type": "text"
      },
      "source": [
        "__y = 0.00116 + 0.7708 `*` TV + 0.508 `*` radio + 0.010 `*` newspaper__"
      ]
    },
    {
      "cell_type": "markdown",
      "metadata": {
        "id": "Gd-YqUYt1hnD",
        "colab_type": "text"
      },
      "source": [
        "How do we interpret the TV coefficient (_0.77081_)\n",
        "- A \"unit\" increase in TV ad spending is **associated with** a _\"0.7708_ unit\" increase in Sales.\n",
        "- Or more clearly: An additional $1,000 spent on TV ads is **associated with** an increase in sales of 770.8 widgets.\n",
        "\n",
        "Important Notes:\n",
        "- This is a statement of __association__, not __causation__.\n",
        "- If an increase in TV ad spending was associated with a __decrease__ in sales,  β1  would be __negative.__"
      ]
    },
    {
      "cell_type": "markdown",
      "metadata": {
        "id": "GWWt0Rtx1hnE",
        "colab_type": "text"
      },
      "source": [
        "<a id=section406></a>"
      ]
    },
    {
      "cell_type": "markdown",
      "metadata": {
        "id": "y1HLRagH1hnF",
        "colab_type": "text"
      },
      "source": [
        "### 4.6 Using the Model for Prediction"
      ]
    },
    {
      "cell_type": "code",
      "metadata": {
        "id": "WwWG9fuh1hnF",
        "colab_type": "code",
        "colab": {}
      },
      "source": [
        "y_pred_train = linreg.predict(X_train)  "
      ],
      "execution_count": 0,
      "outputs": []
    },
    {
      "cell_type": "code",
      "metadata": {
        "id": "R_UwYAh01hnJ",
        "colab_type": "code",
        "colab": {}
      },
      "source": [
        "y_pred_test = linreg.predict(X_test)                                                           # make predictions on the testing set"
      ],
      "execution_count": 0,
      "outputs": []
    },
    {
      "cell_type": "markdown",
      "metadata": {
        "id": "BF8eAPDU1hnM",
        "colab_type": "text"
      },
      "source": [
        "- We need an evaluation metric in order to compare our predictions with the actual values."
      ]
    },
    {
      "cell_type": "markdown",
      "metadata": {
        "id": "sw7I0Fdi1hnO",
        "colab_type": "text"
      },
      "source": [
        "<a id=section5></a>"
      ]
    },
    {
      "cell_type": "markdown",
      "metadata": {
        "id": "p8fgTDhh1hnP",
        "colab_type": "text"
      },
      "source": [
        "## 5. Model evaluation "
      ]
    },
    {
      "cell_type": "markdown",
      "metadata": {
        "id": "BsEKthS91hnQ",
        "colab_type": "text"
      },
      "source": [
        "__Error__ is the _deviation_ of the values _predicted_ by the model with the _true_ values.<br/>\n",
        "For example, if a model predicts that the price of apple is Rs75/kg, but the actual price of apple is Rs100/kg, then the error in prediction will be Rs25/kg.<br/>\n",
        "Below are the types of error we will be calculating for our _linear regression model_:\n",
        "- Mean Absolute Error\n",
        "- Mean Squared Error\n",
        "- Root Mean Squared Error"
      ]
    },
    {
      "cell_type": "markdown",
      "metadata": {
        "id": "Pi0Z0FeF1hnT",
        "colab_type": "text"
      },
      "source": [
        "<a id=section501></a>"
      ]
    },
    {
      "cell_type": "markdown",
      "metadata": {
        "id": "a7RZ7LzT1hnV",
        "colab_type": "text"
      },
      "source": [
        "### 5.1 Model Evaluation using __metrics.__"
      ]
    },
    {
      "cell_type": "markdown",
      "metadata": {
        "id": "KCJVg3J_1hnW",
        "colab_type": "text"
      },
      "source": [
        "__Mean Absolute Error__ (MAE) is the mean of the absolute value of the errors:\n",
        "$$\\frac 1n\\sum_{i=1}^n|y_i-\\hat{y}_i|$$\n",
        "Computing the MAE for our Sales predictions"
      ]
    },
    {
      "cell_type": "code",
      "metadata": {
        "id": "e67ho1hb1hnX",
        "colab_type": "code",
        "colab": {}
      },
      "source": [
        "MAE_train = metrics.mean_absolute_error(y_train, y_pred_train)\n",
        "MAE_test = metrics.mean_absolute_error(y_test, y_pred_test)"
      ],
      "execution_count": 0,
      "outputs": []
    },
    {
      "cell_type": "code",
      "metadata": {
        "scrolled": false,
        "id": "tYJZE2_v1hna",
        "colab_type": "code",
        "outputId": "032b5df2-2f37-43c6-a96f-43dd34f7352f",
        "colab": {}
      },
      "source": [
        "print('MAE for training set is {}'.format(MAE_train))\n",
        "print('MAE for test set is {}'.format(MAE_test))"
      ],
      "execution_count": 0,
      "outputs": [
        {
          "output_type": "stream",
          "text": [
            "MAE for training set is 0.2553322418777194\n",
            "MAE for test set is 0.1998724319969636\n"
          ],
          "name": "stdout"
        }
      ]
    },
    {
      "cell_type": "markdown",
      "metadata": {
        "id": "8dFAJVv71hnc",
        "colab_type": "text"
      },
      "source": [
        "__Mean Squared Error__ (MSE) is the mean of the squared errors:\n",
        "$$\\frac 1n\\sum_{i=1}^n(y_i-\\hat{y}_i)^2$$\n",
        "\n",
        "Computing the MSE for our Sales predictions"
      ]
    },
    {
      "cell_type": "code",
      "metadata": {
        "id": "Z0BIYycC1hnd",
        "colab_type": "code",
        "colab": {}
      },
      "source": [
        "MSE_train = metrics.mean_squared_error(y_train, y_pred_train)\n",
        "MSE_test = metrics.mean_squared_error(y_test, y_pred_test)"
      ],
      "execution_count": 0,
      "outputs": []
    },
    {
      "cell_type": "code",
      "metadata": {
        "id": "sh5oJxZ51hng",
        "colab_type": "code",
        "outputId": "0e527f3b-c26b-4e10-c90d-e82e4851b232",
        "colab": {}
      },
      "source": [
        "print('MSE for training set is {}'.format(MSE_train))\n",
        "print('MSE for test set is {}'.format(MSE_test))"
      ],
      "execution_count": 0,
      "outputs": [
        {
          "output_type": "stream",
          "text": [
            "MSE for training set is 0.11138075570325359\n",
            "MSE for test set is 0.0735399983922829\n"
          ],
          "name": "stdout"
        }
      ]
    },
    {
      "cell_type": "markdown",
      "metadata": {
        "id": "_Fuq1LI01hnj",
        "colab_type": "text"
      },
      "source": [
        "__Root Mean Squared Error__ (RMSE) is the square root of the mean of the squared errors:\n",
        "\n",
        "$$\\sqrt{\\frac 1n\\sum_{i=1}^n(y_i-\\hat{y}_i)^2}$$\n",
        "\n",
        "Computing the RMSE for our Sales predictions"
      ]
    },
    {
      "cell_type": "code",
      "metadata": {
        "id": "fjSfZVIo1hnk",
        "colab_type": "code",
        "colab": {}
      },
      "source": [
        "RMSE_train = np.sqrt( metrics.mean_squared_error(y_train, y_pred_train))\n",
        "RMSE_test = np.sqrt(metrics.mean_squared_error(y_test, y_pred_test))"
      ],
      "execution_count": 0,
      "outputs": []
    },
    {
      "cell_type": "code",
      "metadata": {
        "id": "V_y-ihcr1hnm",
        "colab_type": "code",
        "outputId": "75808044-dbf4-4e44-830d-8e6eeb181317",
        "colab": {}
      },
      "source": [
        "print('RMSE for training set is {}'.format(RMSE_train))\n",
        "print('RMSE for test set is {}'.format(RMSE_test))"
      ],
      "execution_count": 0,
      "outputs": [
        {
          "output_type": "stream",
          "text": [
            "RMSE for training set is 0.3337375551286573\n",
            "RMSE for test set is 0.27118259234744935\n"
          ],
          "name": "stdout"
        }
      ]
    },
    {
      "cell_type": "markdown",
      "metadata": {
        "id": "k9QK95E51hnq",
        "colab_type": "text"
      },
      "source": [
        "Comparing these metrics:\n",
        "\n",
        "- __MAE__ is the easiest to understand, because it's the __average error.__ \n",
        "- __MSE__ is more popular than MAE, because MSE \"punishes\" larger errors.\n",
        "- __RMSE__ is even more popular than MSE, because RMSE is _interpretable_ in the \"y\" units.\n",
        "    - Easier to put in context as it's the same units as our response variable."
      ]
    },
    {
      "cell_type": "markdown",
      "metadata": {
        "id": "vNqn6Iax1hns",
        "colab_type": "text"
      },
      "source": [
        "<a id=section502></a>"
      ]
    },
    {
      "cell_type": "markdown",
      "metadata": {
        "id": "gBtr-2Rc1hnt",
        "colab_type": "text"
      },
      "source": [
        "### 5.2 Model Evaluation using Rsquared value."
      ]
    },
    {
      "cell_type": "markdown",
      "metadata": {
        "id": "moRAxDc81hnu",
        "colab_type": "text"
      },
      "source": [
        "- There is one more method to evaluate linear regression model and that is by using the __Rsquared__ value.<br/>\n",
        "- R-squared is the **proportion of variance explained**, meaning the proportion of variance in the observed data that is explained by the model, or the reduction in error over the **null model**. (The null model just predicts the mean of the observed response, and thus it has an intercept and no slope.)\n",
        "\n",
        "- R-squared is between 0 and 1, and higher is better because it means that more variance is explained by the model. But there is one shortcoming of Rsquare method and that is **R-squared will always increase as you add more features to the model**, even if they are unrelated to the response. Thus, selecting the model with the highest R-squared is not a reliable approach for choosing the best linear model.\n",
        "\n",
        "There is alternative to R-squared called **adjusted R-squared** that penalizes model complexity (to control for overfitting)."
      ]
    },
    {
      "cell_type": "code",
      "metadata": {
        "id": "YmphBj3l1hnu",
        "colab_type": "code",
        "outputId": "4cf897c2-b430-49b5-dd99-a64a2d94abf5",
        "colab": {}
      },
      "source": [
        "yhat = linreg.predict(X_train)\n",
        "SS_Residual = sum((y_train-yhat)**2)\n",
        "SS_Total = sum((y_train-np.mean(y_train))**2)\n",
        "r_squared = 1 - (float(SS_Residual))/SS_Total\n",
        "adjusted_r_squared = 1 - (1-r_squared)*(len(y_train)-1)/(len(y_train)-X_train.shape[1]-1)\n",
        "print(r_squared, adjusted_r_squared)"
      ],
      "execution_count": 0,
      "outputs": [
        {
          "output_type": "stream",
          "text": [
            "0.8959372632325174 0.8939360567562197\n"
          ],
          "name": "stdout"
        }
      ]
    },
    {
      "cell_type": "code",
      "metadata": {
        "id": "4ivci5Ew1hnx",
        "colab_type": "code",
        "outputId": "ca1e564d-4aa2-4db4-984a-fba60a1c82f8",
        "colab": {}
      },
      "source": [
        "yhat = linreg.predict(X_test)\n",
        "SS_Residual = sum((y_test-yhat)**2)\n",
        "SS_Total = sum((y_test-np.mean(y_test))**2)\n",
        "r_squared = 1 - (float(SS_Residual))/SS_Total\n",
        "adjusted_r_squared = 1 - (1-r_squared)*(len(y_test)-1)/(len(y_test)-X_test.shape[1]-1)\n",
        "print(r_squared, adjusted_r_squared)"
      ],
      "execution_count": 0,
      "outputs": [
        {
          "output_type": "stream",
          "text": [
            "0.8927605914615386 0.8838239740833336\n"
          ],
          "name": "stdout"
        }
      ]
    },
    {
      "cell_type": "markdown",
      "metadata": {
        "id": "1ikLl0bI1hn0",
        "colab_type": "text"
      },
      "source": [
        "<a id=section6></a>"
      ]
    },
    {
      "cell_type": "markdown",
      "metadata": {
        "id": "4B-mYerk1hn1",
        "colab_type": "text"
      },
      "source": [
        "## 6. Feature Selection\n",
        "\n",
        "At times some features do not contribute much to the accuracy of the model, in that case its better to discard those features.<br/> \n",
        "- Let's check whether __\"newspaper\"__ improve the quality of our predictions or not.<br/> \n",
        "To check this we are going to take all the features other than \"newspaper\" and see if the error (RMSE) is reducing or not.\n",
        "- Also Applying __gridsearch__ method for exhaustive search over specified parameter values of  estimator."
      ]
    },
    {
      "cell_type": "code",
      "metadata": {
        "id": "dD32AqxP1hn1",
        "colab_type": "code",
        "outputId": "bd87a029-3a1e-4b6d-97b2-9e546a9914e1",
        "colab": {}
      },
      "source": [
        "feature_cols = ['TV','radio']                                                          # create a Python list of feature names\n",
        "X = data[feature_cols]  \n",
        "y = data.sales\n",
        "linreg=linear_reg(X,y,gridsearch=True)"
      ],
      "execution_count": 0,
      "outputs": [
        {
          "output_type": "stream",
          "text": [
            "Mean cross-validated score of the best_estimator :  0.885792093530779\n",
            "RMSE for the test set is 0.26867523792457537\n"
          ],
          "name": "stdout"
        }
      ]
    },
    {
      "cell_type": "markdown",
      "metadata": {
        "id": "Jx-Mexr21hn4",
        "colab_type": "text"
      },
      "source": [
        "- _Before_ doing feature selection _RMSE_ for the test dataset was __0.271182__.<br/>\n",
        "- _After_ discarding 'newspaper' column, RMSE comes to be __0.268675__.<br/>\n",
        "    - As you can see there is __no significant improvement__ in the quality, therefore, the 'newspaper' column shouldn't be discarded. But if in some other case if there is significant decrease in the RMSE, then you must discard that feature.\n",
        "- Give a try to other __features__ and check the RMSE score for each one."
      ]
    },
    {
      "cell_type": "markdown",
      "metadata": {
        "id": "FfhOdBbs1hn4",
        "colab_type": "text"
      },
      "source": [
        "<a id=section7></a>"
      ]
    },
    {
      "cell_type": "markdown",
      "metadata": {
        "id": "inNjO1T21hn5",
        "colab_type": "text"
      },
      "source": [
        "## 7.  Handling Categorical Features\n",
        "\n",
        "Let's create a new feature called **Area**, and randomly assign observations to be **rural, suburban, or urban** :"
      ]
    },
    {
      "cell_type": "code",
      "metadata": {
        "id": "DYvahGf_1hn6",
        "colab_type": "code",
        "outputId": "55715621-acd8-4a0e-f0e0-f9e5e0343778",
        "colab": {}
      },
      "source": [
        "np.random.seed(123456)                                                # set a seed for reproducibility\n",
        "nums = np.random.rand(len(data))\n",
        "mask_suburban = (nums > 0.33) & (nums < 0.66)                         # assign roughly one third of observations to each group\n",
        "mask_urban = nums > 0.66\n",
        "data['Area'] = 'rural'\n",
        "data.loc[mask_suburban, 'Area'] = 'suburban'\n",
        "data.loc[mask_urban, 'Area'] = 'urban'\n",
        "data.head()"
      ],
      "execution_count": 0,
      "outputs": [
        {
          "output_type": "execute_result",
          "data": {
            "text/html": [
              "<div>\n",
              "<style scoped>\n",
              "    .dataframe tbody tr th:only-of-type {\n",
              "        vertical-align: middle;\n",
              "    }\n",
              "\n",
              "    .dataframe tbody tr th {\n",
              "        vertical-align: top;\n",
              "    }\n",
              "\n",
              "    .dataframe thead th {\n",
              "        text-align: right;\n",
              "    }\n",
              "</style>\n",
              "<table border=\"1\" class=\"dataframe\">\n",
              "  <thead>\n",
              "    <tr style=\"text-align: right;\">\n",
              "      <th></th>\n",
              "      <th>TV</th>\n",
              "      <th>radio</th>\n",
              "      <th>newspaper</th>\n",
              "      <th>sales</th>\n",
              "      <th>Area</th>\n",
              "    </tr>\n",
              "  </thead>\n",
              "  <tbody>\n",
              "    <tr>\n",
              "      <th>0</th>\n",
              "      <td>0.969852</td>\n",
              "      <td>0.981522</td>\n",
              "      <td>1.778945</td>\n",
              "      <td>1.552053</td>\n",
              "      <td>rural</td>\n",
              "    </tr>\n",
              "    <tr>\n",
              "      <th>1</th>\n",
              "      <td>-1.197376</td>\n",
              "      <td>1.082808</td>\n",
              "      <td>0.669579</td>\n",
              "      <td>-0.696046</td>\n",
              "      <td>urban</td>\n",
              "    </tr>\n",
              "    <tr>\n",
              "      <th>2</th>\n",
              "      <td>-1.516155</td>\n",
              "      <td>1.528463</td>\n",
              "      <td>1.783549</td>\n",
              "      <td>-0.907406</td>\n",
              "      <td>rural</td>\n",
              "    </tr>\n",
              "    <tr>\n",
              "      <th>3</th>\n",
              "      <td>0.052050</td>\n",
              "      <td>1.217855</td>\n",
              "      <td>1.286405</td>\n",
              "      <td>0.860330</td>\n",
              "      <td>urban</td>\n",
              "    </tr>\n",
              "    <tr>\n",
              "      <th>4</th>\n",
              "      <td>0.394182</td>\n",
              "      <td>-0.841614</td>\n",
              "      <td>1.281802</td>\n",
              "      <td>-0.215683</td>\n",
              "      <td>suburban</td>\n",
              "    </tr>\n",
              "  </tbody>\n",
              "</table>\n",
              "</div>"
            ],
            "text/plain": [
              "         TV     radio  newspaper     sales      Area\n",
              "0  0.969852  0.981522   1.778945  1.552053     rural\n",
              "1 -1.197376  1.082808   0.669579 -0.696046     urban\n",
              "2 -1.516155  1.528463   1.783549 -0.907406     rural\n",
              "3  0.052050  1.217855   1.286405  0.860330     urban\n",
              "4  0.394182 -0.841614   1.281802 -0.215683  suburban"
            ]
          },
          "metadata": {
            "tags": []
          },
          "execution_count": 78
        }
      ]
    },
    {
      "cell_type": "markdown",
      "metadata": {
        "id": "QhpmOuXq1hn8",
        "colab_type": "text"
      },
      "source": [
        "We want to represent Area numerically, but we can't simply code it as:<br/>\n",
        "- 0 = rural,<br/>\n",
        "- 1 = suburban,<br/>\n",
        "- 2 = urban<br/>\n",
        "Because that would imply an **ordered relationship** between suburban and urban, and thus urban is somehow \"twice\" the suburban category.<br/> Note that if you do have ordered categories (i.e., strongly disagree, disagree, neutral, agree, strongly agree), you can use a single dummy variable to represent the categories numerically (such as 1, 2, 3, 4, 5).<br/>\n",
        "\n",
        "Anyway, our Area feature is unordered, so we have to create **additional dummy variables**. Let's explore how to do this using pandas:"
      ]
    },
    {
      "cell_type": "code",
      "metadata": {
        "id": "WYUMBUbF1hn9",
        "colab_type": "code",
        "outputId": "3f3b7d11-f913-4738-bbbd-f55c1d2d913d",
        "colab": {}
      },
      "source": [
        "area_dummies = pd.get_dummies(data.Area, prefix='Area')                           # create three dummy variables using get_dummies\n",
        "area_dummies.head()"
      ],
      "execution_count": 0,
      "outputs": [
        {
          "output_type": "execute_result",
          "data": {
            "text/html": [
              "<div>\n",
              "<style scoped>\n",
              "    .dataframe tbody tr th:only-of-type {\n",
              "        vertical-align: middle;\n",
              "    }\n",
              "\n",
              "    .dataframe tbody tr th {\n",
              "        vertical-align: top;\n",
              "    }\n",
              "\n",
              "    .dataframe thead th {\n",
              "        text-align: right;\n",
              "    }\n",
              "</style>\n",
              "<table border=\"1\" class=\"dataframe\">\n",
              "  <thead>\n",
              "    <tr style=\"text-align: right;\">\n",
              "      <th></th>\n",
              "      <th>Area_rural</th>\n",
              "      <th>Area_suburban</th>\n",
              "      <th>Area_urban</th>\n",
              "    </tr>\n",
              "  </thead>\n",
              "  <tbody>\n",
              "    <tr>\n",
              "      <th>0</th>\n",
              "      <td>1</td>\n",
              "      <td>0</td>\n",
              "      <td>0</td>\n",
              "    </tr>\n",
              "    <tr>\n",
              "      <th>1</th>\n",
              "      <td>0</td>\n",
              "      <td>0</td>\n",
              "      <td>1</td>\n",
              "    </tr>\n",
              "    <tr>\n",
              "      <th>2</th>\n",
              "      <td>1</td>\n",
              "      <td>0</td>\n",
              "      <td>0</td>\n",
              "    </tr>\n",
              "    <tr>\n",
              "      <th>3</th>\n",
              "      <td>0</td>\n",
              "      <td>0</td>\n",
              "      <td>1</td>\n",
              "    </tr>\n",
              "    <tr>\n",
              "      <th>4</th>\n",
              "      <td>0</td>\n",
              "      <td>1</td>\n",
              "      <td>0</td>\n",
              "    </tr>\n",
              "  </tbody>\n",
              "</table>\n",
              "</div>"
            ],
            "text/plain": [
              "   Area_rural  Area_suburban  Area_urban\n",
              "0           1              0           0\n",
              "1           0              0           1\n",
              "2           1              0           0\n",
              "3           0              0           1\n",
              "4           0              1           0"
            ]
          },
          "metadata": {
            "tags": []
          },
          "execution_count": 79
        }
      ]
    },
    {
      "cell_type": "markdown",
      "metadata": {
        "id": "_2TNkMHJ1hn-",
        "colab_type": "text"
      },
      "source": [
        "However, we actually only need **two dummy variables, not three**. \n",
        "__Why???__\n",
        "Because two dummies captures all the \"information\" about the Area feature, and implicitly defines rural as the \"baseline level\".\n",
        "\n",
        "Let's see what that looks like:"
      ]
    },
    {
      "cell_type": "code",
      "metadata": {
        "id": "ScPzRwhC1hn_",
        "colab_type": "code",
        "outputId": "ace087c8-3241-4071-e57f-a75172b565d4",
        "colab": {}
      },
      "source": [
        "area_dummies = pd.get_dummies(data.Area, prefix='Area').iloc[:, 1:]\n",
        "area_dummies.head()"
      ],
      "execution_count": 0,
      "outputs": [
        {
          "output_type": "execute_result",
          "data": {
            "text/html": [
              "<div>\n",
              "<style scoped>\n",
              "    .dataframe tbody tr th:only-of-type {\n",
              "        vertical-align: middle;\n",
              "    }\n",
              "\n",
              "    .dataframe tbody tr th {\n",
              "        vertical-align: top;\n",
              "    }\n",
              "\n",
              "    .dataframe thead th {\n",
              "        text-align: right;\n",
              "    }\n",
              "</style>\n",
              "<table border=\"1\" class=\"dataframe\">\n",
              "  <thead>\n",
              "    <tr style=\"text-align: right;\">\n",
              "      <th></th>\n",
              "      <th>Area_suburban</th>\n",
              "      <th>Area_urban</th>\n",
              "    </tr>\n",
              "  </thead>\n",
              "  <tbody>\n",
              "    <tr>\n",
              "      <th>0</th>\n",
              "      <td>0</td>\n",
              "      <td>0</td>\n",
              "    </tr>\n",
              "    <tr>\n",
              "      <th>1</th>\n",
              "      <td>0</td>\n",
              "      <td>1</td>\n",
              "    </tr>\n",
              "    <tr>\n",
              "      <th>2</th>\n",
              "      <td>0</td>\n",
              "      <td>0</td>\n",
              "    </tr>\n",
              "    <tr>\n",
              "      <th>3</th>\n",
              "      <td>0</td>\n",
              "      <td>1</td>\n",
              "    </tr>\n",
              "    <tr>\n",
              "      <th>4</th>\n",
              "      <td>1</td>\n",
              "      <td>0</td>\n",
              "    </tr>\n",
              "  </tbody>\n",
              "</table>\n",
              "</div>"
            ],
            "text/plain": [
              "   Area_suburban  Area_urban\n",
              "0              0           0\n",
              "1              0           1\n",
              "2              0           0\n",
              "3              0           1\n",
              "4              1           0"
            ]
          },
          "metadata": {
            "tags": []
          },
          "execution_count": 80
        }
      ]
    },
    {
      "cell_type": "markdown",
      "metadata": {
        "id": "UrP541l31hoB",
        "colab_type": "text"
      },
      "source": [
        "Here is how we interpret the coding:\n",
        "- **rural** is coded as  Area_suburban = 0  and  Area_urban = 0\n",
        "- **suburban** is coded as  Area_suburban = 1  and  Area_urban = 0\n",
        "- **urban** is coded as  Area_suburban = 0  and  Area_urban = 1\n",
        "\n",
        "If this sounds confusing, think in general terms that why we need only __k-1 dummy variables__ if we have a categorical feature with __k \"levels\"__.\n",
        "\n",
        "Anyway, let's add these two new dummy variables onto the original DataFrame, and then include them in the linear regression model."
      ]
    },
    {
      "cell_type": "code",
      "metadata": {
        "id": "-f-S1w211hoC",
        "colab_type": "code",
        "outputId": "2389c20d-fda7-43dd-dbd9-4caf5fdd067d",
        "colab": {}
      },
      "source": [
        "# concatenate the dummy variable columns onto the DataFrame (axis=0 means rows, axis=1 means columns)\n",
        "data = pd.concat([data, area_dummies], axis=1)\n",
        "data.head()"
      ],
      "execution_count": 0,
      "outputs": [
        {
          "output_type": "execute_result",
          "data": {
            "text/html": [
              "<div>\n",
              "<style scoped>\n",
              "    .dataframe tbody tr th:only-of-type {\n",
              "        vertical-align: middle;\n",
              "    }\n",
              "\n",
              "    .dataframe tbody tr th {\n",
              "        vertical-align: top;\n",
              "    }\n",
              "\n",
              "    .dataframe thead th {\n",
              "        text-align: right;\n",
              "    }\n",
              "</style>\n",
              "<table border=\"1\" class=\"dataframe\">\n",
              "  <thead>\n",
              "    <tr style=\"text-align: right;\">\n",
              "      <th></th>\n",
              "      <th>TV</th>\n",
              "      <th>radio</th>\n",
              "      <th>newspaper</th>\n",
              "      <th>sales</th>\n",
              "      <th>Area</th>\n",
              "      <th>Area_suburban</th>\n",
              "      <th>Area_urban</th>\n",
              "    </tr>\n",
              "  </thead>\n",
              "  <tbody>\n",
              "    <tr>\n",
              "      <th>0</th>\n",
              "      <td>0.969852</td>\n",
              "      <td>0.981522</td>\n",
              "      <td>1.778945</td>\n",
              "      <td>1.552053</td>\n",
              "      <td>rural</td>\n",
              "      <td>0</td>\n",
              "      <td>0</td>\n",
              "    </tr>\n",
              "    <tr>\n",
              "      <th>1</th>\n",
              "      <td>-1.197376</td>\n",
              "      <td>1.082808</td>\n",
              "      <td>0.669579</td>\n",
              "      <td>-0.696046</td>\n",
              "      <td>urban</td>\n",
              "      <td>0</td>\n",
              "      <td>1</td>\n",
              "    </tr>\n",
              "    <tr>\n",
              "      <th>2</th>\n",
              "      <td>-1.516155</td>\n",
              "      <td>1.528463</td>\n",
              "      <td>1.783549</td>\n",
              "      <td>-0.907406</td>\n",
              "      <td>rural</td>\n",
              "      <td>0</td>\n",
              "      <td>0</td>\n",
              "    </tr>\n",
              "    <tr>\n",
              "      <th>3</th>\n",
              "      <td>0.052050</td>\n",
              "      <td>1.217855</td>\n",
              "      <td>1.286405</td>\n",
              "      <td>0.860330</td>\n",
              "      <td>urban</td>\n",
              "      <td>0</td>\n",
              "      <td>1</td>\n",
              "    </tr>\n",
              "    <tr>\n",
              "      <th>4</th>\n",
              "      <td>0.394182</td>\n",
              "      <td>-0.841614</td>\n",
              "      <td>1.281802</td>\n",
              "      <td>-0.215683</td>\n",
              "      <td>suburban</td>\n",
              "      <td>1</td>\n",
              "      <td>0</td>\n",
              "    </tr>\n",
              "  </tbody>\n",
              "</table>\n",
              "</div>"
            ],
            "text/plain": [
              "         TV     radio  newspaper     sales      Area  Area_suburban  \\\n",
              "0  0.969852  0.981522   1.778945  1.552053     rural              0   \n",
              "1 -1.197376  1.082808   0.669579 -0.696046     urban              0   \n",
              "2 -1.516155  1.528463   1.783549 -0.907406     rural              0   \n",
              "3  0.052050  1.217855   1.286405  0.860330     urban              0   \n",
              "4  0.394182 -0.841614   1.281802 -0.215683  suburban              1   \n",
              "\n",
              "   Area_urban  \n",
              "0           0  \n",
              "1           1  \n",
              "2           0  \n",
              "3           1  \n",
              "4           0  "
            ]
          },
          "metadata": {
            "tags": []
          },
          "execution_count": 81
        }
      ]
    },
    {
      "cell_type": "code",
      "metadata": {
        "id": "2tdpENn21hoE",
        "colab_type": "code",
        "colab": {}
      },
      "source": [
        "feature_cols = ['TV', 'radio', 'newspaper', 'Area_suburban', 'Area_urban']             # create a Python list of feature names\n",
        "X = data[feature_cols]  \n",
        "y = data.sales\n",
        "linreg = linear_reg(X,y)"
      ],
      "execution_count": 0,
      "outputs": []
    },
    {
      "cell_type": "code",
      "metadata": {
        "id": "Gn8j_2WO1hoG",
        "colab_type": "code",
        "outputId": "9fbc501e-b434-4c76-fc88-353ad09749e7",
        "colab": {}
      },
      "source": [
        "feature_cols.insert(0,'Intercept')\n",
        "coef = linreg.coef_.tolist()\n",
        "coef.insert(0, linreg.intercept_)\n",
        "\n",
        "eq1 = zip(feature_cols, coef)\n",
        "\n",
        "for c1,c2 in eq1:\n",
        "    print(c1,c2)"
      ],
      "execution_count": 0,
      "outputs": [
        {
          "output_type": "stream",
          "text": [
            "Intercept -0.0021853599197542845\n",
            "TV 0.7691747677616427\n",
            "radio 0.505968101539116\n",
            "newspaper 0.01109735332606361\n",
            "Area_suburban -0.03117228423836125\n",
            "Area_urban 0.04181960230726815\n"
          ],
          "name": "stdout"
        }
      ]
    },
    {
      "cell_type": "markdown",
      "metadata": {
        "id": "GjuzhEx71hoM",
        "colab_type": "text"
      },
      "source": [
        "__y = - 0.00218 + 0.7691 `*` TV + 0.505 `*` radio + 0.011 `*` newspaper - 0.0311 `*` Area_suburban + 0.0418 `*` Area_urban__<br/>\n",
        "How do we interpret the coefficients?<br/>\n",
        "- Holding all other variables fixed, being a **suburban** area is associated with an average **decrease** in Sales of 0.0311 widgets (as compared to the baseline level, which is rural).\n",
        "- Being an **urban** area is associated with an average **increase** in Sales of 0.0418 widgets (as compared to rural)."
      ]
    },
    {
      "cell_type": "markdown",
      "metadata": {
        "id": "go97seVE1hoN",
        "colab_type": "text"
      },
      "source": [
        "<a id=section8></a>"
      ]
    }
  ]
}